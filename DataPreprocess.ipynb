{
 "cells": [
  {
   "cell_type": "code",
   "execution_count": 56,
   "metadata": {},
   "outputs": [],
   "source": [
    "import numpy as np\n",
    "import imageio as iio\n",
    "import matplotlib.pyplot as plt\n",
    "import glob\n",
    "import os\n",
    "import cv2\n",
    "import json\n",
    "from PIL import Image\n",
    "#from transformers import Mask2FormerImageProcessor"
   ]
  },
  {
   "cell_type": "markdown",
   "metadata": {},
   "source": [
    "Pull nrrd and .seg.nrrd into volumes\n",
    "split into pngs frame by frame iterating on second longest axis\n",
    "take corresponding frame from mask file, create entry in segments info for each segment\n",
    "create instance to class mapping"
   ]
  },
  {
   "cell_type": "code",
   "execution_count": 99,
   "metadata": {},
   "outputs": [],
   "source": [
    "imlist, masklist, seglist2 = [], [], []"
   ]
  },
  {
   "cell_type": "markdown",
   "metadata": {},
   "source": [
    "TODO: compute second longest axis, train test split"
   ]
  },
  {
   "cell_type": "code",
   "execution_count": 100,
   "metadata": {},
   "outputs": [
    {
     "name": "stdout",
     "output_type": "stream",
     "text": [
      "['C:\\\\Users\\\\pgmw9\\\\Documents\\\\Georgia Tech\\\\HAAG\\\\Lizard-Auto-Segmentation\\\\vols\\\\KU-herp-63380-wholebody0000 cropped.nrrd', 'C:\\\\Users\\\\pgmw9\\\\Documents\\\\Georgia Tech\\\\HAAG\\\\Lizard-Auto-Segmentation\\\\vols\\\\KU-herp-75787-wholebody0000 cropped.nrrd']\n",
      "[1]\n",
      "[2]\n",
      "[3]\n",
      "[4]\n",
      "[5]\n",
      "[6]\n",
      "[7]\n",
      "[8 9]\n",
      "[10 11]\n",
      "[12 13]\n",
      "[14 15 16]\n",
      "[17 18 19]\n",
      "[20 21 22]\n",
      "[23 24 25]\n",
      "[26 27 28]\n",
      "[29 30 31]\n",
      "[32 33 34]\n",
      "[35 36 37]\n",
      "[38 39 40]\n",
      "[41 42 43]\n",
      "[44 45 46]\n",
      "[47 48 49]\n",
      "[50 51 52]\n",
      "[53 54 55]\n",
      "[56 57 58]\n",
      "[59 60 61]\n",
      "[62 63 64]\n",
      "[65 66 67]\n",
      "[68 69 70]\n",
      "[71 72 73 74 75]\n",
      "[76 77 78 79 80]\n",
      "[81 82 83 84 85]\n",
      "[86 87 88 89 90 91 92]\n",
      "[ 93  94  95  96  97  98  99 100]\n",
      "[101 102 103 104 105 106 107 108]\n",
      "[109 110 111 112 113 114 115 116]\n",
      "[117 118 119 120 121 122 123 124]\n",
      "[125 126 127 128 129 130 131 132]\n",
      "[133 134 135 136 137 138 139 140 141]\n",
      "[142 143 144 145 146 147 148 149 150]\n",
      "[151 152 153 154 155 156 157 158 159]\n",
      "[160 161 162 163 164 165 166 167 168 169]\n",
      "[170 171 172 173 174 175 176 177 178 179]\n",
      "[180 181 182 183 184 185 186 187 188 189]\n",
      "[190 191 192 193 194 195 196 197 198]\n",
      "[199 200 201 202 203 204 205 206 207]\n",
      "[208 209 210 211 212 213 214 215 216 217]\n",
      "[218 219 220 221 222 223 224 225 226]\n",
      "[227 228 229 230 231 232 233 234 235]\n",
      "[236 237 238 239 240 241 242]\n",
      "[243 244 245 246 247 248 249 250]\n",
      "[251 252 253 254 255 256 257 258]\n",
      "[259 260 261 262 263 264 265 266]\n",
      "[267 268 269 270 271 272]\n",
      "[273 274 275 276 277 278 279]\n",
      "[280 281 282 283 284 285 286]\n",
      "[287 288 289 290 291]\n",
      "[292 293 294 295]\n",
      "[296 297 298 299 300]\n",
      "[301 302 303 304]\n",
      "[305 306 307 308]\n",
      "[309 310 311 312]\n",
      "[313 314 315 316]\n",
      "[317 318 319 320]\n",
      "[321 322 323 324]\n",
      "[325 326 327 328]\n",
      "[329 330 331 332]\n",
      "[333 334 335 336]\n",
      "[337 338 339]\n",
      "[340 341 342]\n",
      "[343 344 345]\n",
      "[346 347 348]\n",
      "[349 350 351]\n",
      "[352 353 354 355]\n",
      "[356 357 358 359]\n",
      "[360 361 362 363]\n",
      "[364 365 366 367]\n",
      "[368 369 370]\n",
      "[371 372 373 374]\n",
      "[375 376 377 378]\n",
      "[379 380 381 382]\n",
      "[383 384 385 386]\n",
      "[387 388 389 390 391]\n",
      "[392 393 394 395 396]\n",
      "[397 398 399 400 401]\n",
      "[402 403 404 405 406]\n",
      "[407 408 409 410 411 412]\n",
      "[413 414 415 416 417 418 419]\n",
      "[420 421 422 423 424 425 426]\n",
      "[427 428 429 430 431 432 433]\n",
      "[434 435 436 437 438 439 440]\n",
      "[441 442 443 444 445 446 447]\n",
      "[448 449 450 451 452 453 454 455]\n",
      "[456 457 458 459 460 461 462 463]\n",
      "[464 465 466 467 468 469 470 471 472]\n",
      "[473 474 475 476 477 478 479 480 481 482]\n",
      "[483 484 485 486 487 488 489 490 491]\n",
      "[492 493 494 495 496 497 498 499 500 501]\n",
      "[502 503 504 505 506 507 508 509 510 511]\n",
      "[512 513 514 515 516 517 518 519 520]\n",
      "[521 522 523 524 525 526 527 528 529]\n",
      "[530 531 532 533 534 535 536 537 538]\n",
      "[539 540 541 542 543 544 545 546 547]\n",
      "[548 549 550 551 552 553 554 555]\n",
      "[556 557 558 559 560 561 562 563]\n",
      "[564 565 566 567 568 569 570 571]\n",
      "[572 573 574 575 576 577 578]\n",
      "[579 580 581 582 583 584 585]\n",
      "[586 587 588 589 590 591 592 593]\n",
      "[594 595 596 597 598 599 600]\n",
      "[601 602 603 604 605 606]\n",
      "[607 608 609 610 611 612]\n",
      "[613 614 615 616 617 618]\n",
      "[619 620 621 622 623 624]\n",
      "[625 626 627 628 629 630]\n",
      "[631 632 633 634 635]\n",
      "[636 637 638 639 640]\n",
      "[641 642 643 644 645]\n",
      "[646 647 648 649 650]\n",
      "[651 652 653 654]\n",
      "[655 656 657]\n",
      "[658 659 660]\n",
      "[661 662 663]\n",
      "[664 665 666]\n",
      "[667 668 669]\n",
      "[670 671 672]\n",
      "[673 674 675]\n",
      "[676 677 678]\n",
      "[679 680 681]\n",
      "[682 683 684]\n",
      "[685 686 687]\n",
      "[688 689 690]\n",
      "[691 692 693]\n",
      "[694 695 696]\n",
      "[697 698 699]\n",
      "[700 701 702]\n",
      "[703 704 705]\n",
      "[706 707 708]\n",
      "[709 710 711]\n",
      "[712 713]\n",
      "[714 715]\n",
      "[716 717]\n",
      "[718 719]\n",
      "[720 721]\n",
      "[722 723]\n",
      "[724 725]\n",
      "[726 727]\n",
      "[728]\n",
      "[729]\n",
      "[730]\n",
      "[731]\n",
      "[732]\n",
      "[733 734]\n",
      "[735 736]\n",
      "[737 738]\n",
      "[739 740]\n",
      "[741 742]\n",
      "[743 744]\n",
      "[745 746]\n",
      "[747 748]\n",
      "[749 750]\n",
      "[751 752]\n",
      "[753 754]\n",
      "[755 756]\n",
      "[757 758]\n",
      "[759 760]\n",
      "[761 762]\n",
      "[763 764]\n",
      "[765 766]\n",
      "[767 768]\n",
      "[769 770]\n",
      "[771 772]\n",
      "[773 774]\n",
      "[775 776]\n",
      "[777 778]\n",
      "[779 780]\n",
      "[781 782]\n",
      "[783 784]\n",
      "[785 786]\n",
      "[787 788]\n",
      "[789 790]\n",
      "[791 792]\n",
      "[793 794]\n",
      "[795 796]\n",
      "[797 798]\n",
      "[799 800]\n",
      "[801 802]\n",
      "[803 804]\n",
      "[805 806]\n",
      "[807 808]\n",
      "[809 810]\n",
      "[811 812]\n",
      "[813 814]\n",
      "[815 816]\n",
      "[817 818]\n",
      "[819 820]\n",
      "[821 822]\n",
      "[823 824]\n",
      "[825 826]\n",
      "[827 828]\n",
      "[829 830]\n",
      "[831 832]\n",
      "[833 834]\n",
      "[835 836]\n",
      "[837 838]\n",
      "[839 840]\n",
      "[841 842]\n",
      "[843 844]\n",
      "[845 846]\n",
      "[847 848]\n",
      "[849 850]\n",
      "[851 852]\n",
      "[853 854]\n",
      "[855 856]\n",
      "[857 858]\n",
      "[859 860]\n",
      "[861 862]\n",
      "[863 864]\n",
      "[865 866]\n",
      "[867 868]\n",
      "[869 870]\n",
      "[871 872]\n",
      "[873 874]\n",
      "[875 876]\n",
      "[877 878]\n",
      "[879 880]\n",
      "[881 882]\n",
      "[883 884]\n",
      "[885 886]\n",
      "[887 888]\n",
      "[889 890]\n",
      "[891 892]\n",
      "[893 894]\n",
      "[895 896]\n",
      "[897 898]\n",
      "[899 900]\n",
      "[901 902]\n",
      "[903 904]\n",
      "[905 906]\n",
      "[907 908 909]\n",
      "[910 911 912]\n",
      "[913 914 915]\n",
      "[916 917 918]\n",
      "[919 920 921]\n",
      "[922 923 924]\n",
      "[925 926 927]\n",
      "[928 929 930]\n",
      "[931 932 933]\n",
      "[934 935 936]\n",
      "[937 938 939 940 941 942]\n",
      "[943 944 945 946 947 948 949 950 951]\n",
      "[952 953 954 955 956 957 958 959 960 961 962 963 964]\n",
      "[965 966 967 968 969 970 971 972 973 974 975 976 977 978 979]\n",
      "[980 981 982 983 984 985 986 987 988 989 990 991 992 993 994 995 996]\n",
      "[ 997  998  999 1000 1001 1002 1003 1004 1005 1006 1007 1008 1009 1010\n",
      " 1011 1012 1013 1014 1015 1016 1017 1018 1019 1020 1021 1022 1023 1024]\n",
      "[1025 1026 1027 1028 1029 1030 1031 1032 1033 1034 1035 1036 1037 1038\n",
      " 1039 1040 1041 1042 1043 1044 1045 1046 1047 1048 1049 1050 1051 1052\n",
      " 1053 1054 1055 1056]\n",
      "[1057 1058 1059 1060 1061 1062 1063 1064 1065 1066 1067 1068 1069 1070\n",
      " 1071 1072 1073 1074 1075 1076 1077 1078 1079 1080 1081 1082 1083 1084\n",
      " 1085 1086 1087 1088 1089 1090 1091 1092 1093 1094 1095]\n",
      "[1096 1097 1098 1099 1100 1101 1102 1103 1104 1105 1106 1107 1108 1109\n",
      " 1110 1111 1112 1113 1114 1115 1116 1117 1118 1119 1120 1121 1122 1123\n",
      " 1124 1125 1126 1127 1128 1129 1130 1131 1132 1133 1134 1135 1136 1137\n",
      " 1138 1139 1140]\n",
      "[1141 1142 1143 1144 1145 1146 1147 1148 1149 1150 1151 1152 1153 1154\n",
      " 1155 1156 1157 1158 1159 1160 1161 1162 1163 1164 1165 1166 1167 1168\n",
      " 1169 1170 1171 1172 1173 1174 1175 1176 1177 1178 1179 1180 1181 1182\n",
      " 1183 1184 1185]\n",
      "[1186 1187 1188 1189 1190 1191 1192 1193 1194 1195 1196 1197 1198 1199\n",
      " 1200 1201 1202 1203 1204 1205 1206 1207 1208 1209 1210 1211 1212 1213\n",
      " 1214 1215 1216 1217 1218 1219 1220 1221 1222 1223 1224 1225 1226 1227\n",
      " 1228 1229 1230]\n",
      "[1231 1232 1233 1234 1235 1236 1237 1238 1239 1240 1241 1242 1243 1244\n",
      " 1245 1246 1247 1248 1249 1250 1251 1252 1253 1254 1255 1256 1257 1258\n",
      " 1259 1260 1261 1262 1263 1264 1265 1266 1267 1268 1269 1270 1271 1272\n",
      " 1273 1274 1275 1276]\n",
      "[1277 1278 1279 1280 1281 1282 1283 1284 1285 1286 1287 1288 1289 1290\n",
      " 1291 1292 1293 1294 1295 1296 1297 1298 1299 1300 1301 1302 1303 1304\n",
      " 1305 1306 1307 1308 1309 1310 1311 1312 1313 1314 1315 1316 1317 1318\n",
      " 1319 1320 1321]\n",
      "[1322 1323 1324 1325 1326 1327 1328 1329 1330 1331 1332 1333 1334 1335\n",
      " 1336 1337 1338 1339 1340 1341 1342 1343 1344 1345 1346 1347 1348 1349\n",
      " 1350 1351 1352 1353 1354 1355 1356 1357 1358 1359 1360 1361 1362 1363\n",
      " 1364]\n",
      "[1365 1366 1367 1368 1369 1370 1371 1372 1373 1374 1375 1376 1377 1378\n",
      " 1379 1380 1381 1382 1383 1384 1385 1386 1387 1388 1389 1390 1391 1392\n",
      " 1393 1394 1395 1396 1397 1398 1399 1400 1401 1402 1403 1404 1405]\n",
      "[1406 1407 1408 1409 1410 1411 1412 1413 1414 1415 1416 1417 1418 1419\n",
      " 1420 1421 1422 1423 1424 1425 1426 1427 1428 1429 1430 1431 1432 1433\n",
      " 1434 1435 1436 1437 1438 1439 1440 1441 1442 1443 1444 1445 1446]\n",
      "[1447 1448 1449 1450 1451 1452 1453 1454 1455 1456 1457 1458 1459 1460\n",
      " 1461 1462 1463 1464 1465 1466 1467 1468 1469 1470 1471 1472 1473 1474\n",
      " 1475 1476 1477 1478 1479 1480 1481 1482 1483 1484 1485 1486]\n",
      "[1487 1488 1489 1490 1491 1492 1493 1494 1495 1496 1497 1498 1499 1500\n",
      " 1501 1502 1503 1504 1505 1506 1507 1508 1509 1510 1511 1512 1513 1514\n",
      " 1515 1516 1517 1518 1519 1520 1521 1522 1523]\n",
      "[1524 1525 1526 1527 1528 1529 1530 1531 1532 1533 1534 1535 1536 1537\n",
      " 1538 1539 1540 1541 1542 1543 1544 1545 1546 1547 1548 1549 1550 1551\n",
      " 1552 1553 1554]\n",
      "[1555 1556 1557 1558 1559 1560 1561 1562 1563 1564 1565 1566 1567 1568\n",
      " 1569 1570 1571 1572 1573 1574 1575 1576 1577 1578 1579 1580 1581 1582\n",
      " 1583]\n",
      "[1584 1585 1586 1587 1588 1589 1590 1591 1592 1593 1594 1595 1596 1597\n",
      " 1598 1599 1600 1601 1602 1603 1604 1605 1606 1607 1608 1609]\n",
      "[1610 1611 1612 1613 1614 1615 1616 1617 1618 1619 1620 1621 1622 1623\n",
      " 1624 1625 1626 1627 1628 1629 1630 1631 1632 1633 1634 1635]\n",
      "[1636 1637 1638 1639 1640 1641 1642 1643 1644 1645 1646 1647 1648 1649\n",
      " 1650 1651 1652 1653 1654 1655 1656 1657 1658]\n",
      "[1659 1660 1661 1662 1663 1664 1665 1666 1667 1668 1669 1670 1671 1672\n",
      " 1673]\n",
      "[1674 1675 1676 1677 1678 1679]\n",
      "[1680 1681]\n",
      "[1682 1683 1684]\n",
      "[1685 1686 1687]\n",
      "[1688 1689 1690]\n",
      "[1691 1692]\n",
      "[1693 1694]\n",
      "[1695 1696]\n",
      "[1697 1698]\n",
      "[1699 1700]\n",
      "[1701 1702]\n",
      "[1703 1704]\n",
      "[1705 1706]\n",
      "[1707 1708]\n",
      "[1709 1710 1711]\n",
      "[1712 1713 1714]\n",
      "[1715 1716]\n",
      "[1717 1718]\n",
      "[1719 1720]\n",
      "[1721 1722]\n",
      "[1723]\n",
      "[1724]\n",
      "[1725]\n",
      "[1726]\n",
      "[1727]\n",
      "[1728]\n",
      "[1729]\n",
      "[1730]\n",
      "[1731]\n",
      "[1732]\n",
      "[1733]\n"
     ]
    }
   ],
   "source": [
    "VOLS_DIR = r\"C:\\Users\\pgmw9\\Documents\\Georgia Tech\\HAAG\\Lizard-Auto-Segmentation\\vols\"\n",
    "MASK_VOLS_DIR = r\"C:\\Users\\pgmw9\\Documents\\Georgia Tech\\HAAG\\Lizard-Auto-Segmentation\\masks\"\n",
    "segno = 1\n",
    "vols = glob.glob(VOLS_DIR + r\"\\*.nrrd\")\n",
    "print(vols)\n",
    "\n",
    "for volpath in vols:\n",
    "    \n",
    "    filename = os.path.basename(volpath).split(\".\")[0]\n",
    "    maskpath = MASK_VOLS_DIR + \"/\" + filename + \"_with UJ.seg.nrrd\"\n",
    "    mask = iio.v3.imread(maskpath)\n",
    "    vol = iio.v3.imread(volpath)\n",
    "    #FIND SECOND LONGEST AXIS\n",
    "    for i in range(vol.shape[1]):\n",
    "        segments_info = []\n",
    "        imframe = vol[:, i, :]\n",
    "        maskframe = mask[:, i, :].astype(np.int64)\n",
    "        seglist = np.unique(maskframe)\n",
    "        for j in seglist:\n",
    "            msk = iio.v3.imread(maskpath)[:, i, :]\n",
    "            t = [msk == j]\n",
    "            msk[msk != j] = 0\n",
    "            msk[tuple(t)] = 255\n",
    "            maskframe[tuple(t)] = segno\n",
    "            area = np.count_nonzero(msk)\n",
    "            points = cv2.findNonZero(msk)\n",
    "            bR = cv2.boundingRect(points)\n",
    "            catid = 2\n",
    "            if j == 1:\n",
    "                catid = 1\n",
    "            elif j == 0:\n",
    "                catid = 0\n",
    "            elif j == mask.max():\n",
    "                catid = 3\n",
    "            segments_info.append({'area': area, 'bbox': [bR[0], bR[1], bR[2], bR[3]], 'category_id': catid, 'id': segno})\n",
    "            segno = segno + 1\n",
    "        imlist.append(Image.fromarray(imframe))\n",
    "        print(np.unique(maskframe))\n",
    "        masklist.append(maskframe)\n",
    "        seglist2.append(segments_info)\n",
    "\n"
   ]
  },
  {
   "cell_type": "code",
   "execution_count": 59,
   "metadata": {},
   "outputs": [
    {
     "name": "stdout",
     "output_type": "stream",
     "text": [
      "(115, 235)\n"
     ]
    },
    {
     "data": {
      "image/png": "[encoded data removed]",
      "text/plain": [
       "<PIL.Image.Image image mode=I;16 size=115x235>"
      ]
     },
     "execution_count": 59,
     "metadata": {},
     "output_type": "execute_result"
    }
   ],
   "source": [
    "print(imlist[75].size)\n",
    "imlist[75]"
   ]
  },
  {
   "cell_type": "code",
   "execution_count": 101,
   "metadata": {},
   "outputs": [
    {
     "name": "stdout",
     "output_type": "stream",
     "text": [
      "[360 361 362 363]\n"
     ]
    }
   ],
   "source": [
    "print(np.unique(masklist[75]))"
   ]
  },
  {
   "cell_type": "code",
   "execution_count": 79,
   "metadata": {},
   "outputs": [
    {
     "name": "stdout",
     "output_type": "stream",
     "text": [
      "[{'area': 25479, 'bbox': [0, 0, 115, 235], 'category_id': 0, 'id': 360}, {'area': 95, 'bbox': [38, 208, 9, 14], 'category_id': 1, 'id': 361}, {'area': 17, 'bbox': [47, 217, 5, 4], 'category_id': 2, 'id': 362}, {'area': 1434, 'bbox': [0, 0, 95, 225], 'category_id': 2, 'id': 363}]\n"
     ]
    }
   ],
   "source": [
    "print(seglist2[75])"
   ]
  },
  {
   "cell_type": "code",
   "execution_count": 102,
   "metadata": {},
   "outputs": [],
   "source": [
    "datadict = {\"image\": imlist, \"label\": masklist, \"segments_info\": seglist2}"
   ]
  },
  {
   "cell_type": "code",
   "execution_count": 107,
   "metadata": {},
   "outputs": [],
   "source": [
    "import datasets\n",
    "\n",
    "ds = datasets.Dataset.from_dict(datadict)\n"
   ]
  },
  {
   "cell_type": "code",
   "execution_count": 64,
   "metadata": {},
   "outputs": [
    {
     "name": "stdout",
     "output_type": "stream",
     "text": [
      "<PIL.PngImagePlugin.PngImageFile image mode=L size=115x235 at 0x17DBE9DE6C8>\n"
     ]
    }
   ],
   "source": [
    "print(ds[100]['label'])"
   ]
  },
  {
   "cell_type": "code",
   "execution_count": 65,
   "metadata": {},
   "outputs": [
    {
     "name": "stderr",
     "output_type": "stream",
     "text": [
      "                                                                                           \r"
     ]
    }
   ],
   "source": [
    "ds.save_to_disk(\"OneScanDataset.hf\")"
   ]
  },
  {
   "cell_type": "code",
   "execution_count": 103,
   "metadata": {},
   "outputs": [],
   "source": [
    "from transformers import Mask2FormerImageProcessor\n",
    "import torch\n",
    "processor = Mask2FormerImageProcessor(ignore_index=0, do_normalize=False, do_resize=False, do_rescale=False)"
   ]
  },
  {
   "cell_type": "code",
   "execution_count": 104,
   "metadata": {},
   "outputs": [
    {
     "name": "stdout",
     "output_type": "stream",
     "text": [
      "{360: 0, 361: 1, 362: 2, 363: 3}\n"
     ]
    }
   ],
   "source": [
    "inst2class = {segment['id']: segment['category_id'] for segment in datadict['segments_info'][75]}\n",
    "print(inst2class)"
   ]
  },
  {
   "cell_type": "code",
   "execution_count": 105,
   "metadata": {},
   "outputs": [
    {
     "name": "stdout",
     "output_type": "stream",
     "text": [
      "(3, 235, 115)\n",
      "(235, 115)\n"
     ]
    }
   ],
   "source": [
    "print(np.stack([np.array(imlist[0]), np.array(imlist[0]), np.array(imlist[0])]).shape)\n",
    "print(np.array(masklist[0]).shape)"
   ]
  },
  {
   "cell_type": "code",
   "execution_count": 106,
   "metadata": {},
   "outputs": [],
   "source": [
    "\n",
    "inputs = processor([np.stack([np.array(imlist[75], dtype=np.float32), np.array(imlist[75], dtype=np.float32), np.array(imlist[75], dtype=np.float32)])], [masklist[75]], instance_id_to_semantic_id=inst2class, return_tensors='pt')"
   ]
  },
  {
   "cell_type": "code",
   "execution_count": 107,
   "metadata": {},
   "outputs": [
    {
     "name": "stdout",
     "output_type": "stream",
     "text": [
      "{'pixel_values': tensor([[[[10222., 10896., 11543.,  ...,  8807.,  9383., 11368.],\n",
      "          [11119., 10885., 11058.,  ..., 10974.,  9454.,  9456.],\n",
      "          [11516., 11707., 10921.,  ..., 12114., 11971., 11105.],\n",
      "          ...,\n",
      "          [10593.,  9851., 10610.,  ..., 10575.,  9681.,  9102.],\n",
      "          [ 9962.,  9767.,  9859.,  ..., 10247.,  9551.,  9259.],\n",
      "          [10771., 10236., 10308.,  ..., 10727.,  9662.,  9219.]],\n",
      "\n",
      "         [[10222., 10896., 11543.,  ...,  8807.,  9383., 11368.],\n",
      "          [11119., 10885., 11058.,  ..., 10974.,  9454.,  9456.],\n",
      "          [11516., 11707., 10921.,  ..., 12114., 11971., 11105.],\n",
      "          ...,\n",
      "          [10593.,  9851., 10610.,  ..., 10575.,  9681.,  9102.],\n",
      "          [ 9962.,  9767.,  9859.,  ..., 10247.,  9551.,  9259.],\n",
      "          [10771., 10236., 10308.,  ..., 10727.,  9662.,  9219.]],\n",
      "\n",
      "         [[10222., 10896., 11543.,  ...,  8807.,  9383., 11368.],\n",
      "          [11119., 10885., 11058.,  ..., 10974.,  9454.,  9456.],\n",
      "          [11516., 11707., 10921.,  ..., 12114., 11971., 11105.],\n",
      "          ...,\n",
      "          [10593.,  9851., 10610.,  ..., 10575.,  9681.,  9102.],\n",
      "          [ 9962.,  9767.,  9859.,  ..., 10247.,  9551.,  9259.],\n",
      "          [10771., 10236., 10308.,  ..., 10727.,  9662.,  9219.]]]]), 'pixel_mask': tensor([[[1, 1, 1,  ..., 1, 1, 1],\n",
      "         [1, 1, 1,  ..., 1, 1, 1],\n",
      "         [1, 1, 1,  ..., 1, 1, 1],\n",
      "         ...,\n",
      "         [1, 1, 1,  ..., 1, 1, 1],\n",
      "         [1, 1, 1,  ..., 1, 1, 1],\n",
      "         [1, 1, 1,  ..., 1, 1, 1]]]), 'mask_labels': [tensor([[[1., 1., 1.,  ..., 1., 1., 1.],\n",
      "         [1., 1., 1.,  ..., 1., 1., 1.],\n",
      "         [1., 1., 1.,  ..., 1., 1., 1.],\n",
      "         ...,\n",
      "         [1., 1., 1.,  ..., 1., 1., 1.],\n",
      "         [1., 1., 1.,  ..., 1., 1., 1.],\n",
      "         [1., 1., 1.,  ..., 1., 1., 1.]],\n",
      "\n",
      "        [[0., 0., 0.,  ..., 0., 0., 0.],\n",
      "         [0., 0., 0.,  ..., 0., 0., 0.],\n",
      "         [0., 0., 0.,  ..., 0., 0., 0.],\n",
      "         ...,\n",
      "         [0., 0., 0.,  ..., 0., 0., 0.],\n",
      "         [0., 0., 0.,  ..., 0., 0., 0.],\n",
      "         [0., 0., 0.,  ..., 0., 0., 0.]],\n",
      "\n",
      "        [[0., 0., 0.,  ..., 0., 0., 0.],\n",
      "         [0., 0., 0.,  ..., 0., 0., 0.],\n",
      "         [0., 0., 0.,  ..., 0., 0., 0.],\n",
      "         ...,\n",
      "         [0., 0., 0.,  ..., 0., 0., 0.],\n",
      "         [0., 0., 0.,  ..., 0., 0., 0.],\n",
      "         [0., 0., 0.,  ..., 0., 0., 0.]],\n",
      "\n",
      "        [[0., 0., 0.,  ..., 0., 0., 0.],\n",
      "         [0., 0., 0.,  ..., 0., 0., 0.],\n",
      "         [0., 0., 0.,  ..., 0., 0., 0.],\n",
      "         ...,\n",
      "         [0., 0., 0.,  ..., 0., 0., 0.],\n",
      "         [0., 0., 0.,  ..., 0., 0., 0.],\n",
      "         [0., 0., 0.,  ..., 0., 0., 0.]]])], 'class_labels': [tensor([0, 1, 2, 3])]}\n"
     ]
    }
   ],
   "source": [
    "print(inputs)"
   ]
  },
  {
   "cell_type": "code",
   "execution_count": 108,
   "metadata": {},
   "outputs": [
    {
     "name": "stderr",
     "output_type": "stream",
     "text": [
      "Some weights of Mask2FormerForUniversalSegmentation were not initialized from the model checkpoint at facebook/mask2former-swin-base-coco-panoptic and are newly initialized because the shapes did not match:\n",
      "- class_predictor.bias: found shape torch.Size([134]) in the checkpoint and torch.Size([5]) in the model instantiated\n",
      "- class_predictor.weight: found shape torch.Size([134, 256]) in the checkpoint and torch.Size([5, 256]) in the model instantiated\n",
      "- criterion.empty_weight: found shape torch.Size([134]) in the checkpoint and torch.Size([5]) in the model instantiated\n",
      "You should probably TRAIN this model on a down-stream task to be able to use it for predictions and inference.\n"
     ]
    }
   ],
   "source": [
    "from transformers import Mask2FormerForUniversalSegmentation\n",
    "\n",
    "\n",
    "category_info = {0: 'Background', 1: 'Lower Jaw', 2: 'Tooth', 3: 'Other Bone'}\n",
    "model = Mask2FormerForUniversalSegmentation.from_pretrained('facebook/mask2former-swin-base-coco-panoptic', id2label=category_info, ignore_mismatched_sizes=True)"
   ]
  },
  {
   "cell_type": "code",
   "execution_count": 110,
   "metadata": {},
   "outputs": [
    {
     "name": "stdout",
     "output_type": "stream",
     "text": [
      "tensor([70.0449], grad_fn=<AddBackward0>)\n"
     ]
    }
   ],
   "source": [
    "out = model(**inputs)\n",
    "print(out.loss)"
   ]
  }
 ],
 "metadata": {
  "kernelspec": {
   "display_name": "venv",
   "language": "python",
   "name": "python3"
  },
  "language_info": {
   "codemirror_mode": {
    "name": "ipython",
    "version": 3
   },
   "file_extension": ".py",
   "mimetype": "text/x-python",
   "name": "python",
   "nbconvert_exporter": "python",
   "pygments_lexer": "ipython3",
   "version": "3.7.5"
  }
 },
 "nbformat": 4,
 "nbformat_minor": 2
}
